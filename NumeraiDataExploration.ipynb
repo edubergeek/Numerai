{
  "nbformat": 4,
  "nbformat_minor": 0,
  "metadata": {
    "colab": {
      "name": "NumeraiDataExploration.ipynb",
      "provenance": [],
      "collapsed_sections": [],
      "authorship_tag": "ABX9TyMy9NcKRAwJOVSMqZBNv21j",
      "include_colab_link": true
    },
    "kernelspec": {
      "name": "python3",
      "display_name": "Python 3"
    }
  },
  "cells": [
    {
      "cell_type": "markdown",
      "metadata": {
        "id": "view-in-github",
        "colab_type": "text"
      },
      "source": [
        "<a href=\"https://colab.research.google.com/github/edubergeek/Numerai/blob/main/NumeraiDataExploration.ipynb\" target=\"_parent\"><img src=\"https://colab.research.google.com/assets/colab-badge.svg\" alt=\"Open In Colab\"/></a>"
      ]
    },
    {
      "cell_type": "code",
      "metadata": {
        "id": "hZeZrj88riU5"
      },
      "source": [
        "\r\n",
        "from google.colab import files\r\n",
        "\r\n"
      ],
      "execution_count": 1,
      "outputs": []
    },
    {
      "cell_type": "code",
      "metadata": {
        "colab": {
          "resources": {
            "http://localhost:8080/nbextensions/google.colab/files.js": {
              "data": "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",
              "ok": true,
              "headers": [
                [
                  "content-type",
                  "application/javascript"
                ]
              ],
              "status": 200,
              "status_text": ""
            }
          },
          "base_uri": "https://localhost:8080/",
          "height": 72
        },
        "id": "r313JroAmnKU",
        "outputId": "529b99bc-0490-4837-ca49-88f4e0b9f3a7"
      },
      "source": [
        "uploaded = files.upload()\r\n",
        "\r\n"
      ],
      "execution_count": 23,
      "outputs": [
        {
          "output_type": "display_data",
          "data": {
            "text/html": [
              "\n",
              "     <input type=\"file\" id=\"files-ff8cad15-cd86-4d6d-a736-e6abef91006f\" name=\"files[]\" multiple disabled\n",
              "        style=\"border:none\" />\n",
              "     <output id=\"result-ff8cad15-cd86-4d6d-a736-e6abef91006f\">\n",
              "      Upload widget is only available when the cell has been executed in the\n",
              "      current browser session. Please rerun this cell to enable.\n",
              "      </output>\n",
              "      <script src=\"/nbextensions/google.colab/files.js\"></script> "
            ],
            "text/plain": [
              "<IPython.core.display.HTML object>"
            ]
          },
          "metadata": {
            "tags": []
          }
        },
        {
          "output_type": "stream",
          "text": [
            "Saving numerai_tournament_data.zip to numerai_tournament_data.zip\n"
          ],
          "name": "stdout"
        }
      ]
    },
    {
      "cell_type": "code",
      "metadata": {
        "colab": {
          "base_uri": "https://localhost:8080/"
        },
        "id": "lrZLsnf_m23q",
        "outputId": "3fea3073-9bf8-4066-f72e-56a0082e479c"
      },
      "source": [
        "for fn in uploaded.keys():\r\n",
        "  print('User uploaded file \"{name}\" with length {length} bytes'.format(\r\n",
        "      name=fn, length=len(uploaded[fn])))  \r\n"
      ],
      "execution_count": 24,
      "outputs": [
        {
          "output_type": "stream",
          "text": [
            "User uploaded file \"numerai_tournament_data.zip\" with length 314709058 bytes\n"
          ],
          "name": "stdout"
        }
      ]
    },
    {
      "cell_type": "code",
      "metadata": {
        "id": "yyCACJOgyPgQ"
      },
      "source": [
        "!unzip -uq \"numerai_training_data.zip\" \r\n",
        "!unzip -uq \"numerai_tournament_data.zip\" "
      ],
      "execution_count": 25,
      "outputs": []
    },
    {
      "cell_type": "code",
      "metadata": {
        "id": "3Z0XmZyPmr7m"
      },
      "source": [
        "import pandas as pd "
      ],
      "execution_count": 13,
      "outputs": []
    },
    {
      "cell_type": "code",
      "metadata": {
        "colab": {
          "base_uri": "https://localhost:8080/"
        },
        "id": "xJpK9DrOye-v",
        "outputId": "eacf10e3-b165-4ad0-e497-9d816af45b05"
      },
      "source": [
        "!ls\r\n",
        "trainingFileName = \"numerai_training_data.csv\"\r\n",
        "testFileName = \"numerai_tournament_data.csv\""
      ],
      "execution_count": 26,
      "outputs": [
        {
          "output_type": "stream",
          "text": [
            "numerai_tournament_data.csv  numerai_training_data.csv\tsample_data\n",
            "numerai_tournament_data.zip  numerai_training_data.zip\n"
          ],
          "name": "stdout"
        }
      ]
    },
    {
      "cell_type": "code",
      "metadata": {
        "colab": {
          "base_uri": "https://localhost:8080/"
        },
        "id": "qBKTdF12m8IF",
        "outputId": "51fbe81c-e50c-4fc5-fd51-d646a279fe0d"
      },
      "source": [
        "# read the data into a dataframe\r\n",
        "print(\"Extracted training data file: \",trainingFileName)\r\n",
        "df = pd.read_csv(trainingFileName) \r\n",
        "  \r\n",
        "# display dataset \r\n",
        "print(df.head()) \r\n",
        "train = df"
      ],
      "execution_count": 17,
      "outputs": [
        {
          "output_type": "stream",
          "text": [
            "Extracted training data file:  numerai_training_data.csv\n",
            "                 id   era data_type  ...  feature_wisdom45  feature_wisdom46  target\n",
            "0  n000315175b67977  era1     train  ...              0.50              0.75    0.50\n",
            "1  n0014af834a96cdd  era1     train  ...              0.25              1.00    0.25\n",
            "2  n001c93979ac41d4  era1     train  ...              0.25              0.75    0.25\n",
            "3  n0034e4143f22a13  era1     train  ...              1.00              1.00    0.25\n",
            "4  n00679d1a636062f  era1     train  ...              0.25              0.75    0.75\n",
            "\n",
            "[5 rows x 314 columns]\n"
          ],
          "name": "stdout"
        }
      ]
    },
    {
      "cell_type": "code",
      "metadata": {
        "colab": {
          "base_uri": "https://localhost:8080/"
        },
        "id": "9pt6YYf4EPvx",
        "outputId": "2504b408-4bd4-4833-bb8c-8770e69edb1a"
      },
      "source": [
        "# read the data into a dataframe \r\n",
        "print(\"Extracted test data file: \",testFileName)\r\n",
        "df = pd.read_csv(testFileName) \r\n",
        "  \r\n",
        "# display dataset \r\n",
        "print(df.head()) \r\n",
        "test = df"
      ],
      "execution_count": 27,
      "outputs": [
        {
          "output_type": "stream",
          "text": [
            "Extracted test data file:  numerai_tournament_data.csv\n",
            "                 id     era  ... feature_wisdom46  target\n",
            "0  n0003aa52cab36c2  era121  ...             0.00    0.25\n",
            "1  n000920ed083903f  era121  ...             0.50    0.50\n",
            "2  n0038e640522c4a6  era121  ...             0.00    1.00\n",
            "3  n004ac94a87dc54b  era121  ...             0.25    0.50\n",
            "4  n0052fe97ea0c05f  era121  ...             1.00    0.75\n",
            "\n",
            "[5 rows x 314 columns]\n"
          ],
          "name": "stdout"
        }
      ]
    },
    {
      "cell_type": "code",
      "metadata": {
        "colab": {
          "base_uri": "https://localhost:8080/"
        },
        "id": "3QdafvCzu5fE",
        "outputId": "cc952d2e-6129-4385-d42a-0338f7d4d85c"
      },
      "source": [
        "print(train)"
      ],
      "execution_count": 29,
      "outputs": [
        {
          "output_type": "stream",
          "text": [
            "                    id   era  ... feature_wisdom46  target\n",
            "0     n000315175b67977  era1  ...             0.75    0.50\n",
            "1     n0014af834a96cdd  era1  ...             1.00    0.25\n",
            "2     n001c93979ac41d4  era1  ...             0.75    0.25\n",
            "3     n0034e4143f22a13  era1  ...             1.00    0.25\n",
            "4     n00679d1a636062f  era1  ...             0.75    0.75\n",
            "...                ...   ...  ...              ...     ...\n",
            "2644  n19d5daed7e5cdab  era2  ...             0.25    0.50\n",
            "2645  n19e1559071f862d  era2  ...             0.00    0.50\n",
            "2646  n19fb10b03accfdc  era2  ...             0.25    0.00\n",
            "2647  n1a0bc4d5b40f9e8  era2  ...             0.50    0.00\n",
            "2648  n1a0bca06e8c01fc  era2  ...              NaN     NaN\n",
            "\n",
            "[2649 rows x 314 columns]\n"
          ],
          "name": "stdout"
        }
      ]
    },
    {
      "cell_type": "code",
      "metadata": {
        "colab": {
          "base_uri": "https://localhost:8080/"
        },
        "id": "evtKlUlDEwLE",
        "outputId": "a1de5dda-f9dd-488c-a427-4c89bddf9d07"
      },
      "source": [
        "test = df\r\n",
        "print(test)"
      ],
      "execution_count": 31,
      "outputs": [
        {
          "output_type": "stream",
          "text": [
            "                       id     era  ... feature_wisdom46  target\n",
            "0        n0003aa52cab36c2  era121  ...             0.00    0.25\n",
            "1        n000920ed083903f  era121  ...             0.50    0.50\n",
            "2        n0038e640522c4a6  era121  ...             0.00    1.00\n",
            "3        n004ac94a87dc54b  era121  ...             0.25    0.50\n",
            "4        n0052fe97ea0c05f  era121  ...             1.00    0.75\n",
            "...                   ...     ...  ...              ...     ...\n",
            "1665893  nffcbaaa118a9c2a    eraX  ...             0.25     NaN\n",
            "1665894  nffd1dc6e0f798a6    eraX  ...             0.00     NaN\n",
            "1665895  nffdfcf0fb116595    eraX  ...             0.25     NaN\n",
            "1665896  nfff187c15c3ede1    eraX  ...             0.25     NaN\n",
            "1665897  nfffe16fb4524553    eraX  ...             0.25     NaN\n",
            "\n",
            "[1665898 rows x 314 columns]\n"
          ],
          "name": "stdout"
        }
      ]
    },
    {
      "cell_type": "code",
      "metadata": {
        "colab": {
          "base_uri": "https://localhost:8080/"
        },
        "id": "fSOQFz_bzQ38",
        "outputId": "cf8b77be-af91-4b6a-88f2-cddd867073b3"
      },
      "source": [
        "\r\n",
        "numFeatures = [f for f in train.columns if f.startswith(\"feature\")]\r\n",
        "print(numFeatures)"
      ],
      "execution_count": 20,
      "outputs": [
        {
          "output_type": "stream",
          "text": [
            "['feature_intelligence1', 'feature_intelligence2', 'feature_intelligence3', 'feature_intelligence4', 'feature_intelligence5', 'feature_intelligence6', 'feature_intelligence7', 'feature_intelligence8', 'feature_intelligence9', 'feature_intelligence10', 'feature_intelligence11', 'feature_intelligence12', 'feature_charisma1', 'feature_charisma2', 'feature_charisma3', 'feature_charisma4', 'feature_charisma5', 'feature_charisma6', 'feature_charisma7', 'feature_charisma8', 'feature_charisma9', 'feature_charisma10', 'feature_charisma11', 'feature_charisma12', 'feature_charisma13', 'feature_charisma14', 'feature_charisma15', 'feature_charisma16', 'feature_charisma17', 'feature_charisma18', 'feature_charisma19', 'feature_charisma20', 'feature_charisma21', 'feature_charisma22', 'feature_charisma23', 'feature_charisma24', 'feature_charisma25', 'feature_charisma26', 'feature_charisma27', 'feature_charisma28', 'feature_charisma29', 'feature_charisma30', 'feature_charisma31', 'feature_charisma32', 'feature_charisma33', 'feature_charisma34', 'feature_charisma35', 'feature_charisma36', 'feature_charisma37', 'feature_charisma38', 'feature_charisma39', 'feature_charisma40', 'feature_charisma41', 'feature_charisma42', 'feature_charisma43', 'feature_charisma44', 'feature_charisma45', 'feature_charisma46', 'feature_charisma47', 'feature_charisma48', 'feature_charisma49', 'feature_charisma50', 'feature_charisma51', 'feature_charisma52', 'feature_charisma53', 'feature_charisma54', 'feature_charisma55', 'feature_charisma56', 'feature_charisma57', 'feature_charisma58', 'feature_charisma59', 'feature_charisma60', 'feature_charisma61', 'feature_charisma62', 'feature_charisma63', 'feature_charisma64', 'feature_charisma65', 'feature_charisma66', 'feature_charisma67', 'feature_charisma68', 'feature_charisma69', 'feature_charisma70', 'feature_charisma71', 'feature_charisma72', 'feature_charisma73', 'feature_charisma74', 'feature_charisma75', 'feature_charisma76', 'feature_charisma77', 'feature_charisma78', 'feature_charisma79', 'feature_charisma80', 'feature_charisma81', 'feature_charisma82', 'feature_charisma83', 'feature_charisma84', 'feature_charisma85', 'feature_charisma86', 'feature_strength1', 'feature_strength2', 'feature_strength3', 'feature_strength4', 'feature_strength5', 'feature_strength6', 'feature_strength7', 'feature_strength8', 'feature_strength9', 'feature_strength10', 'feature_strength11', 'feature_strength12', 'feature_strength13', 'feature_strength14', 'feature_strength15', 'feature_strength16', 'feature_strength17', 'feature_strength18', 'feature_strength19', 'feature_strength20', 'feature_strength21', 'feature_strength22', 'feature_strength23', 'feature_strength24', 'feature_strength25', 'feature_strength26', 'feature_strength27', 'feature_strength28', 'feature_strength29', 'feature_strength30', 'feature_strength31', 'feature_strength32', 'feature_strength33', 'feature_strength34', 'feature_strength35', 'feature_strength36', 'feature_strength37', 'feature_strength38', 'feature_dexterity1', 'feature_dexterity2', 'feature_dexterity3', 'feature_dexterity4', 'feature_dexterity5', 'feature_dexterity6', 'feature_dexterity7', 'feature_dexterity8', 'feature_dexterity9', 'feature_dexterity10', 'feature_dexterity11', 'feature_dexterity12', 'feature_dexterity13', 'feature_dexterity14', 'feature_constitution1', 'feature_constitution2', 'feature_constitution3', 'feature_constitution4', 'feature_constitution5', 'feature_constitution6', 'feature_constitution7', 'feature_constitution8', 'feature_constitution9', 'feature_constitution10', 'feature_constitution11', 'feature_constitution12', 'feature_constitution13', 'feature_constitution14', 'feature_constitution15', 'feature_constitution16', 'feature_constitution17', 'feature_constitution18', 'feature_constitution19', 'feature_constitution20', 'feature_constitution21', 'feature_constitution22', 'feature_constitution23', 'feature_constitution24', 'feature_constitution25', 'feature_constitution26', 'feature_constitution27', 'feature_constitution28', 'feature_constitution29', 'feature_constitution30', 'feature_constitution31', 'feature_constitution32', 'feature_constitution33', 'feature_constitution34', 'feature_constitution35', 'feature_constitution36', 'feature_constitution37', 'feature_constitution38', 'feature_constitution39', 'feature_constitution40', 'feature_constitution41', 'feature_constitution42', 'feature_constitution43', 'feature_constitution44', 'feature_constitution45', 'feature_constitution46', 'feature_constitution47', 'feature_constitution48', 'feature_constitution49', 'feature_constitution50', 'feature_constitution51', 'feature_constitution52', 'feature_constitution53', 'feature_constitution54', 'feature_constitution55', 'feature_constitution56', 'feature_constitution57', 'feature_constitution58', 'feature_constitution59', 'feature_constitution60', 'feature_constitution61', 'feature_constitution62', 'feature_constitution63', 'feature_constitution64', 'feature_constitution65', 'feature_constitution66', 'feature_constitution67', 'feature_constitution68', 'feature_constitution69', 'feature_constitution70', 'feature_constitution71', 'feature_constitution72', 'feature_constitution73', 'feature_constitution74', 'feature_constitution75', 'feature_constitution76', 'feature_constitution77', 'feature_constitution78', 'feature_constitution79', 'feature_constitution80', 'feature_constitution81', 'feature_constitution82', 'feature_constitution83', 'feature_constitution84', 'feature_constitution85', 'feature_constitution86', 'feature_constitution87', 'feature_constitution88', 'feature_constitution89', 'feature_constitution90', 'feature_constitution91', 'feature_constitution92', 'feature_constitution93', 'feature_constitution94', 'feature_constitution95', 'feature_constitution96', 'feature_constitution97', 'feature_constitution98', 'feature_constitution99', 'feature_constitution100', 'feature_constitution101', 'feature_constitution102', 'feature_constitution103', 'feature_constitution104', 'feature_constitution105', 'feature_constitution106', 'feature_constitution107', 'feature_constitution108', 'feature_constitution109', 'feature_constitution110', 'feature_constitution111', 'feature_constitution112', 'feature_constitution113', 'feature_constitution114', 'feature_wisdom1', 'feature_wisdom2', 'feature_wisdom3', 'feature_wisdom4', 'feature_wisdom5', 'feature_wisdom6', 'feature_wisdom7', 'feature_wisdom8', 'feature_wisdom9', 'feature_wisdom10', 'feature_wisdom11', 'feature_wisdom12', 'feature_wisdom13', 'feature_wisdom14', 'feature_wisdom15', 'feature_wisdom16', 'feature_wisdom17', 'feature_wisdom18', 'feature_wisdom19', 'feature_wisdom20', 'feature_wisdom21', 'feature_wisdom22', 'feature_wisdom23', 'feature_wisdom24', 'feature_wisdom25', 'feature_wisdom26', 'feature_wisdom27', 'feature_wisdom28', 'feature_wisdom29', 'feature_wisdom30', 'feature_wisdom31', 'feature_wisdom32', 'feature_wisdom33', 'feature_wisdom34', 'feature_wisdom35', 'feature_wisdom36', 'feature_wisdom37', 'feature_wisdom38', 'feature_wisdom39', 'feature_wisdom40', 'feature_wisdom41', 'feature_wisdom42', 'feature_wisdom43', 'feature_wisdom44', 'feature_wisdom45', 'feature_wisdom46']\n"
          ],
          "name": "stdout"
        }
      ]
    },
    {
      "cell_type": "code",
      "metadata": {
        "colab": {
          "base_uri": "https://localhost:8080/"
        },
        "id": "heAoINCAzsTr",
        "outputId": "e324bac2-f2db-41fc-851e-42b72a956a66"
      },
      "source": [
        "print(len(numFeatures))"
      ],
      "execution_count": 21,
      "outputs": [
        {
          "output_type": "stream",
          "text": [
            "310\n"
          ],
          "name": "stdout"
        }
      ]
    },
    {
      "cell_type": "code",
      "metadata": {
        "colab": {
          "base_uri": "https://localhost:8080/"
        },
        "id": "vOTwaxMezx78",
        "outputId": "71af6b7d-53cb-46df-d255-eebb772d9983"
      },
      "source": [
        "print(train.data_type.unique())\r\n",
        "print(test.data_type.unique())"
      ],
      "execution_count": 32,
      "outputs": [
        {
          "output_type": "stream",
          "text": [
            "['train']\n",
            "['validation' 'test' 'live']\n"
          ],
          "name": "stdout"
        }
      ]
    },
    {
      "cell_type": "code",
      "metadata": {
        "id": "LeKreSxT0sXT"
      },
      "source": [
        ""
      ],
      "execution_count": null,
      "outputs": []
    }
  ]
}